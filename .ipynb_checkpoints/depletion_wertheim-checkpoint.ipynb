{
 "cells": [
  {
   "cell_type": "code",
   "execution_count": 80,
   "metadata": {
    "collapsed": false
   },
   "outputs": [],
   "source": [
    "import numdifftools as nd\n",
    "from math import pi, exp, sqrt, log\n",
    "from numpy.linalg import det, slogdet\n",
    "from numpy import array, linspace, logspace\n",
    "import matplotlib.pyplot as plt\n",
    "%matplotlib inline "
   ]
  },
  {
   "cell_type": "markdown",
   "metadata": {},
   "source": [
    "### Ideal free energy contribution\n",
    "This is comprised of the large colloids (or polyions), the polymer and the two monovalent ions. The form I use below is technically incorrect as the density has dimensions and I apply a log to it. This is irrelevant though as any arbitrary constant volume multiplicative factor can be introduced in the log without penalty. Upon taking a derivative with repect to density, one would find this term cancels itself. This is the same as saying the free energy is totally arbitrary to within a constant additive factor\n",
    "\n",
    "---"
   ]
  },
  {
   "cell_type": "code",
   "execution_count": 155,
   "metadata": {
    "collapsed": true
   },
   "outputs": [],
   "source": [
    "def Aid(p_c, p_p, #state variables\n",
    "        d_c, d_p  #system variables\n",
    "       ):\n",
    "    \n",
    "    #just creating an arbitrary length scale to non-dimensionalize the log term\n",
    "    vol = (d_c/2.0 + d_p/2.0)**3.0\n",
    "    p = p_c + p_p\n",
    "    \n",
    "    #ideal contribution containing both mixing and translational entropy\n",
    "    a_id = p_c*log(p_c*vol) + p_p*log(p_p*vol) - p\n",
    "    \n",
    "    return a_id"
   ]
  },
  {
   "cell_type": "code",
   "execution_count": null,
   "metadata": {
    "collapsed": true
   },
   "outputs": [],
   "source": []
  },
  {
   "cell_type": "markdown",
   "metadata": {},
   "source": [
    "###   Contribution of the non-addittive AO model to the free energy.\n",
    "This uses the approximate equation of state of Woodward et al. I use this as apposed to the Santos theory as it is simpler and yields similar results to the free volume form which agrees well with Santos.\n",
    "\n",
    "---"
   ]
  },
  {
   "cell_type": "code",
   "execution_count": 156,
   "metadata": {
    "collapsed": true
   },
   "outputs": [],
   "source": [
    "def Aao(p_c, p_p, #state variables\n",
    "        d_c, d_p  #system parameters\n",
    "       ):\n",
    "    \n",
    "    #calculate volume fraction\n",
    "    n_c = (pi/6.0)*(d_c**3.0)*p_c\n",
    "    \n",
    "    #ratio\n",
    "    q = d_p/d_c\n",
    "    \n",
    "    #some parameters\n",
    "    A = 3.0*q + 3.0*(q**2.0) + q**3.0\n",
    "    B = (9.0/2.0)*(q**2.0) + 3.0*(q**3.0)\n",
    "    C = 3.0*(q**3.0)\n",
    "    w = -log(1.0 - n_c) + A*(n_c/(1.0 - n_c)) + B*((n_c/(1.0 - n_c))**2.0) + C*((n_c/(1.0 - n_c))**3.0)\n",
    "    \n",
    "    #free volume theory free energy\n",
    "    a_hs_ref = p_c*(-3.0 + 2.0/(1.0 - n_c) + 1.0/((1.0 - n_c)**2.0)) \n",
    "    a_fv_pert = p_p*w\n",
    "    \n",
    "    #total free energy\n",
    "    a_ao = a_hs_ref + a_fv_pert\n",
    "    \n",
    "    return a_ao   "
   ]
  },
  {
   "cell_type": "code",
   "execution_count": null,
   "metadata": {
    "collapsed": true
   },
   "outputs": [],
   "source": []
  },
  {
   "cell_type": "markdown",
   "metadata": {},
   "source": [
    "###   Bonding contribution to the free energy.\n",
    "This uses Werthiem theory combined with an approximation for the colloid-polymer contact value in the AO model\n",
    "\n",
    "---"
   ]
  },
  {
   "cell_type": "markdown",
   "metadata": {},
   "source": [
    "Using the Santos theory for AO contact value (J. Chem. Phys. 122, 024514 2005)"
   ]
  },
  {
   "cell_type": "code",
   "execution_count": 286,
   "metadata": {
    "collapsed": true
   },
   "outputs": [],
   "source": [
    "def Gcp(p_c, p_p,  #state variables\n",
    "        d_c, d_p   #system parameters\n",
    "       ):\n",
    "    \n",
    "    #colloid volume fraction and non-additive AO weight for contact formula\n",
    "    n_c = (pi/6.0)*(d_c**3.0)*p_c\n",
    "    z_cp = (2.0*d_p/d_c)/(1.0 + d_p/d_c)\n",
    "    \n",
    "    #pure contact value\n",
    "    g_c_pure = (1.0 - n_c/2.0)/((1.0 - n_c)**3.0)\n",
    "    \n",
    "    #cross contact value based on the Santos approximation\n",
    "    g_cp = (1.0/(1.0 - n_c)) + z_cp*(g_c_pure - (1.0/(1.0 - n_c)))\n",
    "    \n",
    "    return g_cp"
   ]
  },
  {
   "cell_type": "markdown",
   "metadata": {},
   "source": [
    "The fraction of bonded species based on analytically solving the Werthiem equations"
   ]
  },
  {
   "cell_type": "code",
   "execution_count": 158,
   "metadata": {
    "collapsed": true
   },
   "outputs": [],
   "source": [
    "def X(p_c, p_p, T,               #state variables\n",
    "       d_c, d_p, m_c, m_p, v_cp  #system parameters\n",
    "      ):\n",
    "    \n",
    "    #make sure patch number is a float just in case\n",
    "    m_c = float(m_c)\n",
    "    m_p = float(m_p)\n",
    "    \n",
    "    #this is different from the usual definition as it does not explicitly contain the contact value\n",
    "    delta = v_cp*(exp(1.0/T) - 1.0);\n",
    "    \n",
    "    #total density\n",
    "    p = p_c + p_p\n",
    "    \n",
    "    #species fractions\n",
    "    f_c = p_c/p\n",
    "    f_p = p_p/p\n",
    "    \n",
    "    #analytical formula for X_c and X_p\n",
    "    X_c = 2.0 / (1.0 + delta*m_p*p*Gcp(p_c, p_p, d_c, d_p) - delta*f_c*(m_c + m_p)*p*Gcp(p_c, p_p, d_c, d_p) + sqrt(4.0*delta*f_c*m_c*p*Gcp(p_c, p_p, d_c, d_p) + pow(-1.0 + delta*(-m_p + f_c*(m_c + m_p))*p*Gcp(p_c, p_p, d_c, d_p), 2.0)))\n",
    "    X_p = 2.0 / (1.0 - delta*m_p*p*Gcp(p_c, p_p, d_c, d_p) + delta*f_c*(m_c + m_p)*p*Gcp(p_c, p_p, d_c, d_p) + sqrt(4.0*delta*f_c*m_c*p*Gcp(p_c, p_p, d_c, d_p) + pow(-1.0 + delta*(-m_p + f_c*(m_c + m_p))*p*Gcp(p_c, p_p, d_c, d_p), 2.0)))\n",
    "    \n",
    "    return (X_c, X_p)"
   ]
  },
  {
   "cell_type": "markdown",
   "metadata": {},
   "source": [
    "Werthiem free energy change due to bonding"
   ]
  },
  {
   "cell_type": "code",
   "execution_count": 159,
   "metadata": {
    "collapsed": true
   },
   "outputs": [],
   "source": [
    "def Abd(p_c, p_p, T,              #state variables\n",
    "       d_c, d_p, m_c, m_p, v_cp  #system parameters\n",
    "       ):\n",
    "    \n",
    "    #make sure patch number is a float just in case\n",
    "    m_c = float(m_c)\n",
    "    m_p = float(m_p)\n",
    "    \n",
    "    #bonded fraction of each species\n",
    "    X_c, X_p = X(p_c, p_p, T,\n",
    "                 d_c, d_p, m_c, m_p, v_cp)\n",
    "    \n",
    "    #excess bonding free energy\n",
    "    a_bd = p_c*(m_c*log(X_c) - m_c*X_c/2.0 + m_c/2.0) + p_p*(m_p*log(X_p) - m_p*X_p/2.0 + m_p/2.0)\n",
    "    \n",
    "    return a_bd"
   ]
  },
  {
   "cell_type": "code",
   "execution_count": null,
   "metadata": {
    "collapsed": true
   },
   "outputs": [],
   "source": []
  },
  {
   "cell_type": "markdown",
   "metadata": {},
   "source": [
    "###   Total free energy\n",
    "\n",
    "---"
   ]
  },
  {
   "cell_type": "code",
   "execution_count": 160,
   "metadata": {
    "collapsed": true
   },
   "outputs": [],
   "source": [
    "def A(p_c, p_p, T,              #state variables\n",
    "      d_c, d_p, m_c, m_p, v_cp  #system parameters\n",
    "     ):\n",
    "    \n",
    "    #make sure patch number is a float just in case\n",
    "    m_c = float(m_c)\n",
    "    m_p = float(m_p)\n",
    "    \n",
    "    #get the various contributions\n",
    "    a_id = Aid(p_c, p_p, d_c, d_p)\n",
    "    a_ao = Aao(p_c, p_p, d_c, d_p)\n",
    "    a_bd = Abd(p_c, p_p, T, d_c, d_p, m_c, m_p, v_cp)\n",
    "    \n",
    "    #the total free energy\n",
    "    a = a_id + a_ao + a_bd\n",
    "    \n",
    "    return a"
   ]
  },
  {
   "cell_type": "code",
   "execution_count": null,
   "metadata": {
    "collapsed": true
   },
   "outputs": [],
   "source": []
  },
  {
   "cell_type": "code",
   "execution_count": null,
   "metadata": {
    "collapsed": true
   },
   "outputs": [],
   "source": []
  },
  {
   "cell_type": "markdown",
   "metadata": {},
   "source": [
    "###   Stabilility calculation\n",
    "Here we calculate the stability limits of the system via a standard spinodal calculation. For the helmholts free energy we only need to look at any determnant that contains n-1 degrees of freedom where n counts all the extensive variables.\n",
    "\n",
    "---"
   ]
  },
  {
   "cell_type": "code",
   "execution_count": 161,
   "metadata": {
    "collapsed": true
   },
   "outputs": [],
   "source": [
    "def DA(p_c, p_p, T,              #state variables\n",
    "       d_c, d_p, m_c, m_p, v_cp, #system parameters\n",
    "       min_step                  #minimum step to use for hessian calculation\n",
    "      ):\n",
    "    \n",
    "    #generate steps for calculating hessian\n",
    "    hess_steps = nd.MinStepGenerator(base_step=min_step, step_ratio=2.0, num_steps = 2)\n",
    "    \n",
    "    #calculate the hessian (stability matrix)\n",
    "    calculate_hessian = lambda x: A(x[0], x[1], T, d_c, d_p, m_c, m_p, v_cp)\n",
    "    stability_matrix = nd.Hessian(calculate_hessian, step = hess_steps)([p_c, p_p])\n",
    "    \n",
    "    #build the 3x3 (or 2x2) stability matrix as a numpy array and calculate the determinant \n",
    "    #logdet is used to avoid issues with a small determinant (such as when an instability is reached)\n",
    "    (sign, logdet) = slogdet(stability_matrix)\n",
    "    stability_determinant = sign*exp(logdet)    \n",
    "        \n",
    "    #return the stability determinant\n",
    "    return stability_determinant"
   ]
  },
  {
   "cell_type": "markdown",
   "metadata": {},
   "source": [
    "Performs a grid search and labels points as stable or unstable"
   ]
  },
  {
   "cell_type": "code",
   "execution_count": 164,
   "metadata": {
    "collapsed": true
   },
   "outputs": [],
   "source": [
    "#performs grid search and labels each point as stable or unstable\n",
    "def CalculateSpinodal(p_c_vals, g_pc_vals,          #state variables for grid search\n",
    "                      T,                            #intensive state variables held fixed\n",
    "                      d_c, d_p, m_c, m_p, v_cp,     #system variables\n",
    "                      min_step                      #minimum step to use for hessian calculation\n",
    "                     ):\n",
    "    \n",
    "    #lists for storing the grid points classified as stable and unstable \n",
    "    stable = [[],[],[],[],[]]\n",
    "    unstable = [[],[],[],[],[]]\n",
    "    \n",
    "    #sample the grid points\n",
    "    for p_c in p_c_vals:\n",
    "        for g_pc in g_pc_vals:\n",
    "            p_p = g_pc*p_c\n",
    "            D_A = DA(p_c, p_p, T, d_c, d_p, m_c, m_p, v_cp, min_step)\n",
    "            if D_A < 0.0:\n",
    "                unstable[0].append(p_c)\n",
    "                unstable[1].append(p_p)\n",
    "                unstable[2].append(p_p/p_c)\n",
    "                unstable[3].append(((pi/6.0)*d_c*d_c*d_c)*p_c)\n",
    "                unstable[4].append(((pi/6.0)*d_p*d_p*d_p)*p_p)\n",
    "            else:\n",
    "                stable[0].append(p_c)\n",
    "                stable[1].append(p_p)\n",
    "                stable[2].append(p_p/p_c)\n",
    "                stable[3].append(((pi/6.0)*d_c*d_c*d_c)*p_c)\n",
    "                stable[4].append(((pi/6.0)*d_p*d_p*d_p)*p_p)\n",
    "    \n",
    "    return (stable, unstable)"
   ]
  },
  {
   "cell_type": "code",
   "execution_count": null,
   "metadata": {
    "collapsed": true
   },
   "outputs": [],
   "source": []
  },
  {
   "cell_type": "markdown",
   "metadata": {},
   "source": [
    "###   Calculate phase diagrams\n",
    "Using our free energy based theory we can calculate stability based phase diagrams\n",
    "\n",
    "---"
   ]
  },
  {
   "cell_type": "code",
   "execution_count": 284,
   "metadata": {
    "collapsed": false
   },
   "outputs": [],
   "source": [
    "#system variables\n",
    "d_c = 1.0\n",
    "d_p = 1.1/3.68\n",
    "m_c = 45\n",
    "m_p = 1.8  #2.0\n",
    "v_cp = 1.0\n",
    "\n",
    "#state variables\n",
    "T=13.0  #17.0\n",
    "\n",
    "\n",
    "#colloid\n",
    "n_c_vals = linspace(0.004, 0.4, num=100)\n",
    "#polymer\n",
    "g_pc_vals = logspace(-1, 3.7, num=100)\n",
    "\n",
    "#recalculate in terms of densities\n",
    "p_c_vals = 6.0*n_c_vals/(pi*d_c*d_c*d_c)\n",
    "\n",
    "min_step= 0.0001 #0.001\n",
    "stable, unstable = CalculateSpinodal(p_c_vals, g_pc_vals, T, d_c, d_p, m_c, m_p, v_cp, min_step)"
   ]
  },
  {
   "cell_type": "code",
   "execution_count": 253,
   "metadata": {
    "collapsed": false
   },
   "outputs": [],
   "source": [
    "#system variables\n",
    "d_c = 1.0\n",
    "d_p = 1.1/3.68\n",
    "m_c = 25\n",
    "m_p = 3\n",
    "v_cp = 1.0\n",
    "\n",
    "#state variables\n",
    "T=9.0\n",
    "\n",
    "\n",
    "#colloid\n",
    "n_c_vals = linspace(0.004, 0.4, num=100)\n",
    "#polymer\n",
    "g_pc_vals = logspace(-1, 3.7, num=100)\n",
    "\n",
    "#recalculate in terms of densities\n",
    "p_c_vals = 6.0*n_c_vals/(pi*d_c*d_c*d_c)\n",
    "\n",
    "min_step= 0.0001 #0.001\n",
    "stable, unstable = CalculateSpinodal(p_c_vals, g_pc_vals, T, d_c, d_p, m_c, m_p, v_cp, min_step)"
   ]
  },
  {
   "cell_type": "code",
   "execution_count": 273,
   "metadata": {
    "collapsed": true
   },
   "outputs": [],
   "source": [
    "#system variables\n",
    "d_c = 1.0\n",
    "d_p = 1.1/3.68\n",
    "m_c = 25\n",
    "m_p = 6\n",
    "v_cp = 1.0\n",
    "\n",
    "#state variables\n",
    "T=40.0\n",
    "\n",
    "\n",
    "#colloid\n",
    "n_c_vals = linspace(0.004, 0.4, num=100)\n",
    "#polymer\n",
    "g_pc_vals = logspace(-1, 3.7, num=100)\n",
    "\n",
    "#recalculate in terms of densities\n",
    "p_c_vals = 6.0*n_c_vals/(pi*d_c*d_c*d_c)\n",
    "\n",
    "min_step= 0.0001 #0.001\n",
    "stable, unstable = CalculateSpinodal(p_c_vals, g_pc_vals, T, d_c, d_p, m_c, m_p, v_cp, min_step)"
   ]
  },
  {
   "cell_type": "code",
   "execution_count": 285,
   "metadata": {
    "collapsed": false
   },
   "outputs": [
    {
     "data": {
      "text/plain": [
       "<matplotlib.text.Text at 0x2d479da0>"
      ]
     },
     "execution_count": 285,
     "metadata": {},
     "output_type": "execute_result"
    },
    {
     "data": {
      "image/png": "[encoded data removed]",
      "text/plain": [
       "<matplotlib.figure.Figure at 0x29ca34a8>"
      ]
     },
     "metadata": {},
     "output_type": "display_data"
    }
   ],
   "source": [
    "#font scpecifications\n",
    "title_font = {'family' : 'arial', 'color'  : 'black', 'weight' : 'heavy','size': 20}\n",
    "axis_label_font = {'family' : 'arial', 'color'  : 'black', 'weight' : 'normal','size': 20}\n",
    "\n",
    "#figure size and tick style\n",
    "plt.rcParams[\"figure.figsize\"] = [6,6]\n",
    "plt.rc('axes',edgecolor='black',linewidth=1)\n",
    "plt.tick_params(which='both', axis='both', color='black', length=4, width=0.5)\n",
    "plt.rcParams['xtick.direction'] = 'in'\n",
    "plt.rcParams['ytick.direction'] = 'in'\n",
    "\n",
    "\n",
    "plt.xlabel('Colloid volume fraction', fontsize=20, fontdict = axis_label_font)\n",
    "plt.ylabel('Polymer / Colloid', fontsize=20, fontdict = axis_label_font)\n",
    "plt.scatter(stable[3], stable[2], c=\"w\", marker=\"s\", s=120, alpha=1.0, linewidths=0.0)\n",
    "plt.scatter(unstable[3],unstable[2], c=\"purple\", marker=\"s\", s=120, alpha=1.0, linewidths=0.0)\n",
    "plt.scatter([0.0384, 0.0384, 0.0384], [26.8, 281, 887], c=\"none\", linestyle = '-', linewidth = 2, edgecolor=\"teal\", s=120.0)\n",
    "plt.scatter([0.0384, 0.0384], [150, 1747], c=\"teal\", linestyle = '-', linewidth = 2, edgecolor=\"teal\", s=120.0)\n",
    "plt.ylim((1,5000))\n",
    "plt.yscale('log')\n",
    "plt.xlim((0,0.3))\n",
    "\n",
    "#title and axis labels\n",
    "plt.tick_params(axis='both', labelsize=20)\n",
    "plt.title(\"Stability phase diagram\", y=1.05, fontdict = title_font)"
   ]
  },
  {
   "cell_type": "code",
   "execution_count": 119,
   "metadata": {
    "collapsed": false
   },
   "outputs": [
    {
     "data": {
      "text/plain": [
       "<matplotlib.text.Text at 0x11232d30>"
      ]
     },
     "execution_count": 119,
     "metadata": {},
     "output_type": "execute_result"
    },
    {
     "data": {
      "image/png": "[encoded data removed]",
      "text/plain": [
       "<matplotlib.figure.Figure at 0x10dc69b0>"
      ]
     },
     "metadata": {},
     "output_type": "display_data"
    }
   ],
   "source": [
    "#font scpecifications\n",
    "title_font = {'family' : 'arial', 'color'  : 'black', 'weight' : 'heavy','size': 20}\n",
    "axis_label_font = {'family' : 'arial', 'color'  : 'black', 'weight' : 'normal','size': 20}\n",
    "\n",
    "#figure size and tick style\n",
    "plt.rcParams[\"figure.figsize\"] = [6,6]\n",
    "plt.rc('axes',edgecolor='black',linewidth=1)\n",
    "plt.tick_params(which='both', axis='both', color='black', length=4, width=0.5)\n",
    "plt.rcParams['xtick.direction'] = 'in'\n",
    "plt.rcParams['ytick.direction'] = 'in'\n",
    "\n",
    "\n",
    "plt.xlabel('Colloid volume fraction', fontsize=20, fontdict = axis_label_font)\n",
    "plt.ylabel('Polymer / Colloid', fontsize=20, fontdict = axis_label_font)\n",
    "plt.scatter(stable[3], stable[2], c=\"b\", marker=\"s\", s=120, alpha=1.0, linewidths=0.0)\n",
    "plt.scatter(unstable[3],unstable[2], c=\"orange\", marker=\"s\", s=120, alpha=1.0, linewidths=0.0)\n",
    "plt.scatter([0.043, 0.043, 0.043], [19, 200, 633], c=\"none\", linestyle = '-', linewidth = 2, edgecolor=\"#33a6cc\", s=90.0)\n",
    "plt.scatter([0.043, 0.043], [108, 1247], c=\"#33a6cc\", linestyle = '-', linewidth = 2, edgecolor=\"#33a6cc\", s=90.0)\n",
    "plt.ylim((1,2500))\n",
    "plt.yscale('log')\n",
    "plt.xlim((0,0.1))\n",
    "\n",
    "#title and axis labels\n",
    "plt.tick_params(axis='both', labelsize=20)\n",
    "plt.title(\"Stability phase diagram\", y=1.05, fontdict = title_font)"
   ]
  },
  {
   "cell_type": "code",
   "execution_count": 289,
   "metadata": {
    "collapsed": true
   },
   "outputs": [],
   "source": [
    "#system variables\n",
    "d_c = 1.0\n",
    "d_p = 0.33 ############0.45\n",
    "m_c = 6\n",
    "m_p = 2\n",
    "v_cp = 1.0\n",
    "\n",
    "#state variables\n",
    "n_c = 0.03 #0.005\n",
    "n_p = 8.00\n",
    "T=10.5\n",
    "\n",
    "#recalculate in terms of densities\n",
    "p_c = 6.0*n_c/(pi*d_c*d_c*d_c)\n",
    "p_p = 6.0*n_p/(pi*d_p*d_p*d_p)"
   ]
  },
  {
   "cell_type": "code",
   "execution_count": 290,
   "metadata": {
    "collapsed": false
   },
   "outputs": [
    {
     "name": "stdout",
     "output_type": "stream",
     "text": [
      "X_c = 0.0116373698764\n",
      "X_p = 0.999600413637\n"
     ]
    }
   ],
   "source": [
    "X_c, X_p = X(p_c, p_p, T, d_c, d_p, m_c, m_p, v_cp)\n",
    "print \"X_c = {0}\".format(X_c)\n",
    "print \"X_p = {0}\".format(X_p)"
   ]
  },
  {
   "cell_type": "code",
   "execution_count": 42,
   "metadata": {
    "collapsed": false
   },
   "outputs": [
    {
     "data": {
      "text/plain": [
       "1.0549059855241865"
      ]
     },
     "execution_count": 42,
     "metadata": {},
     "output_type": "execute_result"
    }
   ],
   "source": [
    "Gcp(p_c, p_p, d_c, d_p)"
   ]
  },
  {
   "cell_type": "code",
   "execution_count": 287,
   "metadata": {
    "collapsed": true
   },
   "outputs": [],
   "source": [
    "#system variables\n",
    "d_c = 0.33\n",
    "d_p = 1.00 ############0.45\n",
    "m_c = 2\n",
    "m_p = 6\n",
    "v_cp = 1.0\n",
    "\n",
    "#state variables\n",
    "n_c = 8.00 #0.005\n",
    "n_p = 0.03\n",
    "T=10.5\n",
    "\n",
    "#recalculate in terms of densities\n",
    "p_c = 6.0*n_c/(pi*d_c*d_c*d_c)\n",
    "p_p = 6.0*n_p/(pi*d_p*d_p*d_p)"
   ]
  },
  {
   "cell_type": "code",
   "execution_count": 288,
   "metadata": {
    "collapsed": false
   },
   "outputs": [
    {
     "name": "stdout",
     "output_type": "stream",
     "text": [
      "X_c = 0.999600413637\n",
      "X_p = 0.0116373698764\n"
     ]
    }
   ],
   "source": [
    "X_c, X_p = X(p_c, p_p, T, d_c, d_p, m_c, m_p, v_cp)\n",
    "print \"X_c = {0}\".format(X_c)\n",
    "print \"X_p = {0}\".format(X_p)"
   ]
  },
  {
   "cell_type": "code",
   "execution_count": 45,
   "metadata": {
    "collapsed": false
   },
   "outputs": [
    {
     "data": {
      "text/plain": [
       "0.08511804292071284"
      ]
     },
     "execution_count": 45,
     "metadata": {},
     "output_type": "execute_result"
    }
   ],
   "source": [
    "Gcp(p_c, p_p, d_c, d_p)"
   ]
  },
  {
   "cell_type": "code",
   "execution_count": null,
   "metadata": {
    "collapsed": true
   },
   "outputs": [],
   "source": []
  }
 ],
 "metadata": {
  "kernelspec": {
   "display_name": "Python 2",
   "language": "python",
   "name": "python2"
  },
  "language_info": {
   "codemirror_mode": {
    "name": "ipython",
    "version": 2
   },
   "file_extension": ".py",
   "mimetype": "text/x-python",
   "name": "python",
   "nbconvert_exporter": "python",
   "pygments_lexer": "ipython2",
   "version": "2.7.13"
  }
 },
 "nbformat": 4,
 "nbformat_minor": 2
}
